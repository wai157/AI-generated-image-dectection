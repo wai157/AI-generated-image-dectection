{
 "cells": [
  {
   "cell_type": "code",
   "execution_count": 1,
   "metadata": {},
   "outputs": [],
   "source": [
    "import torch\n",
    "from torch import nn\n",
    "from torch.utils.data import DataLoader, random_split, Subset\n",
    "from torchvision import datasets\n",
    "from torchvision.models import resnet50\n",
    "from SSP.networks.ssp import ssp\n",
    "from torchvision.models.feature_extraction import create_feature_extractor\n",
    "from tqdm import tqdm\n",
    "import clip\n",
    "from models import TransformerClassifier\n",
    "import matplotlib.pyplot as plt\n",
    "import pandas as pd\n",
    "import os"
   ]
  },
  {
   "cell_type": "markdown",
   "metadata": {},
   "source": [
    "# Set up"
   ]
  },
  {
   "cell_type": "code",
   "execution_count": 5,
   "metadata": {},
   "outputs": [
    {
     "data": {
      "text/plain": [
       "'cuda'"
      ]
     },
     "execution_count": 5,
     "metadata": {},
     "output_type": "execute_result"
    }
   ],
   "source": [
    "device = \"cuda\" if torch.cuda.is_available() else \"cpu\"\n",
    "device"
   ]
  },
  {
   "cell_type": "code",
   "execution_count": 6,
   "metadata": {},
   "outputs": [],
   "source": [
    "_datasets = ['adm', 'biggan', 'glide', 'midjourney', 'sdv5', 'vqdm', 'wukong']\n",
    "\n",
    "dataset = 'all'\n",
    "os.makedirs(f'./weights/{dataset}', exist_ok=True)\n",
    "os.makedirs(f'./results/{dataset}', exist_ok=True)"
   ]
  },
  {
   "cell_type": "code",
   "execution_count": 7,
   "metadata": {},
   "outputs": [
    {
     "data": {
      "text/plain": [
       "<All keys matched successfully>"
      ]
     },
     "execution_count": 7,
     "metadata": {},
     "output_type": "execute_result"
    }
   ],
   "source": [
    "clip_model, preprocess = clip.load(\"ViT-B/32\", device=device)\n",
    "\n",
    "clip_model.float()\n",
    "\n",
    "student_model = nn.TransformerEncoder(nn.TransformerEncoderLayer(d_model=512, nhead=4, dropout=0.2, batch_first=True), num_layers=1).to(device).eval()\n",
    "student_model.load_state_dict(torch.load(f\"./weights/{dataset}/student.pth\", weights_only=True))\n",
    "\n",
    "teacher_model = TransformerClassifier().to(device).eval()\n",
    "teacher_model.load_state_dict(torch.load(f\"./weights/{dataset}/teacher.pth\", weights_only=True))\n",
    "teacher_model = create_feature_extractor(teacher_model, return_nodes={\"transformer_encoder\": \"layer1\", \"fc\": \"layer2\"})\n",
    "\n",
    "classifier = TransformerClassifier().to(device).eval()\n",
    "classifier.load_state_dict(torch.load(f\"./weights/{dataset}/classifier.pth\", weights_only=True))\n",
    "\n",
    "# resnet = resnet50(num_classes=2).to(device)\n",
    "# resnet.load_state_dict(torch.load(f\"./weights/{dataset}/resnet50.pth\", weights_only=True))\n",
    "\n",
    "# _ssp = ssp().to(device)\n",
    "# _ssp.load_state_dict(torch.load(f\"./weights/{dataset}/ssp.pth\", weights_only=True))"
   ]
  },
  {
   "cell_type": "markdown",
   "metadata": {},
   "source": [
    "# Classifier"
   ]
  },
  {
   "cell_type": "code",
   "execution_count": 9,
   "metadata": {},
   "outputs": [
    {
     "name": "stderr",
     "output_type": "stream",
     "text": [
      "Test adm: 100%|██████████| 32/32 [00:09<00:00,  3.38batch/s, acc=54.9]\n",
      "Test biggan: 100%|██████████| 32/32 [00:08<00:00,  3.96batch/s, acc=59.6]\n",
      "Test glide: 100%|██████████| 32/32 [00:08<00:00,  3.90batch/s, acc=60.8]\n",
      "Test midjourney: 100%|██████████| 32/32 [00:19<00:00,  1.66batch/s, acc=51.5]\n",
      "Test sdv5: 100%|██████████| 32/32 [00:11<00:00,  2.68batch/s, acc=49.7]\n",
      "Test vqdm: 100%|██████████| 32/32 [00:08<00:00,  3.60batch/s, acc=49.9]\n",
      "Test wukong: 100%|██████████| 32/32 [00:11<00:00,  2.68batch/s, acc=49.9]\n"
     ]
    }
   ],
   "source": [
    "result = []\n",
    "\n",
    "for _ in _datasets:\n",
    "    test_path = f\"./data/{_}/val\"\n",
    "    test_folder = datasets.ImageFolder(root=test_path, transform=preprocess)\n",
    "    test_loader = DataLoader(test_folder, batch_size=32, shuffle=False)\n",
    "    \n",
    "    with tqdm(total=len(test_loader), desc=f'Test {_}', unit='batch') as pbar:\n",
    "        with torch.inference_mode():\n",
    "            correct = 0\n",
    "            for batch, (images, labels) in enumerate(test_loader):\n",
    "                images, labels = images.to(device), labels.to(device)\n",
    "                image_features = clip_model.encode_image(images)\n",
    "                student_output = student_model(image_features)\n",
    "                teacher_output = teacher_model(image_features)['layer1']\n",
    "                logits = classifier(torch.pow(student_output - teacher_output, 2))\n",
    "                \n",
    "                predictions = torch.argmax(logits, dim=-1)\n",
    "                correct += (predictions == labels).sum().item()\n",
    "                \n",
    "                pbar.update()\n",
    "                \n",
    "        acc = correct/len(test_loader.dataset)*100\n",
    "        pbar.set_postfix({'acc': acc})\n",
    "                \n",
    "    result.append({'dataset': _, 'acc': acc})"
   ]
  },
  {
   "cell_type": "code",
   "execution_count": 10,
   "metadata": {},
   "outputs": [
    {
     "name": "stdout",
     "output_type": "stream",
     "text": [
      "Avg acc: 53.75714285714285\n"
     ]
    },
    {
     "data": {
      "text/html": [
       "<div>\n",
       "<style scoped>\n",
       "    .dataframe tbody tr th:only-of-type {\n",
       "        vertical-align: middle;\n",
       "    }\n",
       "\n",
       "    .dataframe tbody tr th {\n",
       "        vertical-align: top;\n",
       "    }\n",
       "\n",
       "    .dataframe thead th {\n",
       "        text-align: right;\n",
       "    }\n",
       "</style>\n",
       "<table border=\"1\" class=\"dataframe\">\n",
       "  <thead>\n",
       "    <tr style=\"text-align: right;\">\n",
       "      <th></th>\n",
       "      <th>dataset</th>\n",
       "      <th>acc</th>\n",
       "    </tr>\n",
       "  </thead>\n",
       "  <tbody>\n",
       "    <tr>\n",
       "      <th>0</th>\n",
       "      <td>adm</td>\n",
       "      <td>54.9</td>\n",
       "    </tr>\n",
       "    <tr>\n",
       "      <th>1</th>\n",
       "      <td>biggan</td>\n",
       "      <td>59.6</td>\n",
       "    </tr>\n",
       "    <tr>\n",
       "      <th>2</th>\n",
       "      <td>glide</td>\n",
       "      <td>60.8</td>\n",
       "    </tr>\n",
       "    <tr>\n",
       "      <th>3</th>\n",
       "      <td>midjourney</td>\n",
       "      <td>51.5</td>\n",
       "    </tr>\n",
       "    <tr>\n",
       "      <th>4</th>\n",
       "      <td>sdv5</td>\n",
       "      <td>49.7</td>\n",
       "    </tr>\n",
       "    <tr>\n",
       "      <th>5</th>\n",
       "      <td>vqdm</td>\n",
       "      <td>49.9</td>\n",
       "    </tr>\n",
       "    <tr>\n",
       "      <th>6</th>\n",
       "      <td>wukong</td>\n",
       "      <td>49.9</td>\n",
       "    </tr>\n",
       "  </tbody>\n",
       "</table>\n",
       "</div>"
      ],
      "text/plain": [
       "      dataset   acc\n",
       "0         adm  54.9\n",
       "1      biggan  59.6\n",
       "2       glide  60.8\n",
       "3  midjourney  51.5\n",
       "4        sdv5  49.7\n",
       "5        vqdm  49.9\n",
       "6      wukong  49.9"
      ]
     },
     "execution_count": 10,
     "metadata": {},
     "output_type": "execute_result"
    }
   ],
   "source": [
    "result = pd.DataFrame(result)\n",
    "result.to_csv(f'./results/{dataset}/classifier_test.csv', index=False)\n",
    "\n",
    "print(f'Avg acc: {result['acc'].mean()}')\n",
    "result"
   ]
  },
  {
   "cell_type": "markdown",
   "metadata": {},
   "source": [
    "# Teacher"
   ]
  },
  {
   "cell_type": "code",
   "execution_count": 11,
   "metadata": {},
   "outputs": [
    {
     "name": "stderr",
     "output_type": "stream",
     "text": [
      "Test adm: 100%|██████████| 32/32 [00:08<00:00,  3.59batch/s, acc=98.8]\n",
      "Test biggan: 100%|██████████| 32/32 [00:08<00:00,  3.94batch/s, acc=59.7]\n",
      "Test glide: 100%|██████████| 32/32 [00:08<00:00,  3.92batch/s, acc=59.1]\n",
      "Test midjourney: 100%|██████████| 32/32 [00:20<00:00,  1.57batch/s, acc=54.2]\n",
      "Test sdv5: 100%|██████████| 32/32 [00:11<00:00,  2.74batch/s, acc=49.4]\n",
      "Test vqdm: 100%|██████████| 32/32 [00:08<00:00,  3.66batch/s, acc=52]\n",
      "Test wukong: 100%|██████████| 32/32 [00:11<00:00,  2.79batch/s, acc=50.1]\n"
     ]
    }
   ],
   "source": [
    "result = []\n",
    "\n",
    "for _ in _datasets:\n",
    "    test_path = f\"./data/{_}/val\"\n",
    "    test_folder = datasets.ImageFolder(root=test_path, transform=preprocess)\n",
    "    test_loader = DataLoader(test_folder, batch_size=32, shuffle=False)\n",
    "    \n",
    "    with tqdm(total=len(test_loader), desc=f'Test {_}', unit='batch') as pbar:\n",
    "        with torch.inference_mode():\n",
    "            correct = 0\n",
    "            for batch, (images, labels) in enumerate(test_loader):\n",
    "                images, labels = images.to(device), labels.to(device)\n",
    "                image_features = clip_model.encode_image(images)\n",
    "                logits = teacher_model(image_features)['layer2']\n",
    "                \n",
    "                predictions = torch.argmax(logits, dim=-1)\n",
    "                correct += (predictions == labels).sum().item()\n",
    "                \n",
    "                pbar.update()\n",
    "                \n",
    "        acc = correct/len(test_loader.dataset)*100\n",
    "        pbar.set_postfix({'acc': acc})\n",
    "                \n",
    "    result.append({'dataset': _, 'acc': acc})"
   ]
  },
  {
   "cell_type": "code",
   "execution_count": 12,
   "metadata": {},
   "outputs": [
    {
     "name": "stdout",
     "output_type": "stream",
     "text": [
      "Avg acc: 60.471428571428575\n"
     ]
    },
    {
     "data": {
      "text/html": [
       "<div>\n",
       "<style scoped>\n",
       "    .dataframe tbody tr th:only-of-type {\n",
       "        vertical-align: middle;\n",
       "    }\n",
       "\n",
       "    .dataframe tbody tr th {\n",
       "        vertical-align: top;\n",
       "    }\n",
       "\n",
       "    .dataframe thead th {\n",
       "        text-align: right;\n",
       "    }\n",
       "</style>\n",
       "<table border=\"1\" class=\"dataframe\">\n",
       "  <thead>\n",
       "    <tr style=\"text-align: right;\">\n",
       "      <th></th>\n",
       "      <th>dataset</th>\n",
       "      <th>acc</th>\n",
       "    </tr>\n",
       "  </thead>\n",
       "  <tbody>\n",
       "    <tr>\n",
       "      <th>0</th>\n",
       "      <td>adm</td>\n",
       "      <td>98.8</td>\n",
       "    </tr>\n",
       "    <tr>\n",
       "      <th>1</th>\n",
       "      <td>biggan</td>\n",
       "      <td>59.7</td>\n",
       "    </tr>\n",
       "    <tr>\n",
       "      <th>2</th>\n",
       "      <td>glide</td>\n",
       "      <td>59.1</td>\n",
       "    </tr>\n",
       "    <tr>\n",
       "      <th>3</th>\n",
       "      <td>midjourney</td>\n",
       "      <td>54.2</td>\n",
       "    </tr>\n",
       "    <tr>\n",
       "      <th>4</th>\n",
       "      <td>sdv5</td>\n",
       "      <td>49.4</td>\n",
       "    </tr>\n",
       "    <tr>\n",
       "      <th>5</th>\n",
       "      <td>vqdm</td>\n",
       "      <td>52.0</td>\n",
       "    </tr>\n",
       "    <tr>\n",
       "      <th>6</th>\n",
       "      <td>wukong</td>\n",
       "      <td>50.1</td>\n",
       "    </tr>\n",
       "  </tbody>\n",
       "</table>\n",
       "</div>"
      ],
      "text/plain": [
       "      dataset   acc\n",
       "0         adm  98.8\n",
       "1      biggan  59.7\n",
       "2       glide  59.1\n",
       "3  midjourney  54.2\n",
       "4        sdv5  49.4\n",
       "5        vqdm  52.0\n",
       "6      wukong  50.1"
      ]
     },
     "execution_count": 12,
     "metadata": {},
     "output_type": "execute_result"
    }
   ],
   "source": [
    "result = pd.DataFrame(result)\n",
    "result.to_csv(f'./results/{dataset}/teacher_test.csv', index=False)\n",
    "\n",
    "print(f'Avg acc: {result['acc'].mean()}')\n",
    "result"
   ]
  },
  {
   "cell_type": "markdown",
   "metadata": {},
   "source": [
    "# Resnet"
   ]
  },
  {
   "cell_type": "code",
   "execution_count": null,
   "metadata": {},
   "outputs": [
    {
     "name": "stderr",
     "output_type": "stream",
     "text": [
      "Test adm: 100%|██████████| 32/32 [00:09<00:00,  3.48batch/s, acc=47.1]\n",
      "Test biggan: 100%|██████████| 32/32 [00:07<00:00,  4.03batch/s, acc=50.7]\n",
      "Test glide: 100%|██████████| 32/32 [00:08<00:00,  3.85batch/s, acc=47.8]\n",
      "Test midjourney: 100%|██████████| 32/32 [00:19<00:00,  1.60batch/s, acc=51.2]\n",
      "Test sdv5: 100%|██████████| 32/32 [00:10<00:00,  2.95batch/s, acc=49.6]\n",
      "Test vqdm: 100%|██████████| 32/32 [00:08<00:00,  3.93batch/s, acc=47.8]\n",
      "Test wukong: 100%|██████████| 32/32 [00:10<00:00,  2.97batch/s, acc=49.7]\n"
     ]
    }
   ],
   "source": [
    "# result = []\n",
    "\n",
    "# for _ in _datasets:\n",
    "#     test_path = f\"./data/{_}/val\"\n",
    "#     test_folder = datasets.ImageFolder(root=test_path, transform=preprocess)\n",
    "#     test_loader = DataLoader(test_folder, batch_size=32, shuffle=False)\n",
    "    \n",
    "#     with tqdm(total=len(test_loader), desc=f'Test {_}', unit='batch') as pbar:\n",
    "#         with torch.inference_mode():\n",
    "#             correct = 0\n",
    "#             for batch, (images, labels) in enumerate(test_loader):\n",
    "#                 images, labels = images.to(device), labels.to(device)\n",
    "#                 logits = resnet(images)\n",
    "                \n",
    "#                 predictions = torch.argmax(logits, dim=-1)\n",
    "#                 correct += (predictions == labels).sum().item()\n",
    "                \n",
    "#                 pbar.update()\n",
    "                \n",
    "#         acc = correct/len(test_loader.dataset)*100\n",
    "#         pbar.set_postfix({'acc': acc})\n",
    "                \n",
    "#     result.append({'dataset': _, 'acc': acc})"
   ]
  },
  {
   "cell_type": "code",
   "execution_count": null,
   "metadata": {},
   "outputs": [
    {
     "name": "stdout",
     "output_type": "stream",
     "text": [
      "Avg acc: 49.128571428571426\n"
     ]
    },
    {
     "data": {
      "text/html": [
       "<div>\n",
       "<style scoped>\n",
       "    .dataframe tbody tr th:only-of-type {\n",
       "        vertical-align: middle;\n",
       "    }\n",
       "\n",
       "    .dataframe tbody tr th {\n",
       "        vertical-align: top;\n",
       "    }\n",
       "\n",
       "    .dataframe thead th {\n",
       "        text-align: right;\n",
       "    }\n",
       "</style>\n",
       "<table border=\"1\" class=\"dataframe\">\n",
       "  <thead>\n",
       "    <tr style=\"text-align: right;\">\n",
       "      <th></th>\n",
       "      <th>dataset</th>\n",
       "      <th>acc</th>\n",
       "    </tr>\n",
       "  </thead>\n",
       "  <tbody>\n",
       "    <tr>\n",
       "      <th>0</th>\n",
       "      <td>adm</td>\n",
       "      <td>47.1</td>\n",
       "    </tr>\n",
       "    <tr>\n",
       "      <th>1</th>\n",
       "      <td>biggan</td>\n",
       "      <td>50.7</td>\n",
       "    </tr>\n",
       "    <tr>\n",
       "      <th>2</th>\n",
       "      <td>glide</td>\n",
       "      <td>47.8</td>\n",
       "    </tr>\n",
       "    <tr>\n",
       "      <th>3</th>\n",
       "      <td>midjourney</td>\n",
       "      <td>51.2</td>\n",
       "    </tr>\n",
       "    <tr>\n",
       "      <th>4</th>\n",
       "      <td>sdv5</td>\n",
       "      <td>49.6</td>\n",
       "    </tr>\n",
       "    <tr>\n",
       "      <th>5</th>\n",
       "      <td>vqdm</td>\n",
       "      <td>47.8</td>\n",
       "    </tr>\n",
       "    <tr>\n",
       "      <th>6</th>\n",
       "      <td>wukong</td>\n",
       "      <td>49.7</td>\n",
       "    </tr>\n",
       "  </tbody>\n",
       "</table>\n",
       "</div>"
      ],
      "text/plain": [
       "      dataset   acc\n",
       "0         adm  47.1\n",
       "1      biggan  50.7\n",
       "2       glide  47.8\n",
       "3  midjourney  51.2\n",
       "4        sdv5  49.6\n",
       "5        vqdm  47.8\n",
       "6      wukong  49.7"
      ]
     },
     "execution_count": 10,
     "metadata": {},
     "output_type": "execute_result"
    }
   ],
   "source": [
    "# result = pd.DataFrame(result)\n",
    "# result.to_csv(f'./results/{dataset}/resnet50_test.csv', index=False)\n",
    "\n",
    "# print(f'Avg acc: {result['acc'].mean()}')\n",
    "# result"
   ]
  },
  {
   "cell_type": "markdown",
   "metadata": {},
   "source": [
    "# SSP"
   ]
  },
  {
   "cell_type": "code",
   "execution_count": null,
   "metadata": {},
   "outputs": [
    {
     "name": "stderr",
     "output_type": "stream",
     "text": [
      "Test adm: 100%|██████████| 32/32 [00:10<00:00,  3.13batch/s, acc=51.2]\n",
      "Test biggan: 100%|██████████| 32/32 [00:09<00:00,  3.41batch/s, acc=50.5]\n",
      "Test glide: 100%|██████████| 32/32 [00:11<00:00,  2.74batch/s, acc=50]\n",
      "Test midjourney: 100%|██████████| 32/32 [00:24<00:00,  1.33batch/s, acc=49.7]\n",
      "Test sdv5: 100%|██████████| 32/32 [00:12<00:00,  2.47batch/s, acc=52.6]\n",
      "Test vqdm: 100%|██████████| 32/32 [00:11<00:00,  2.80batch/s, acc=51.2]\n",
      "Test wukong: 100%|██████████| 32/32 [00:15<00:00,  2.10batch/s, acc=52.7]\n"
     ]
    }
   ],
   "source": [
    "# result = []\n",
    "\n",
    "# for _ in _datasets:\n",
    "#     test_path = f\"./data/{_}/val\"\n",
    "#     test_folder = datasets.ImageFolder(root=test_path, transform=preprocess)\n",
    "#     test_loader = DataLoader(test_folder, batch_size=32, shuffle=False)\n",
    "    \n",
    "#     with tqdm(total=len(test_loader), desc=f'Test {_}', unit='batch') as pbar:\n",
    "#         with torch.inference_mode():\n",
    "#             correct = 0\n",
    "#             for batch, (images, labels) in enumerate(test_loader):\n",
    "#                 images, labels = images.to(device), labels.to(device)\n",
    "#                 preds = _ssp(images).ravel()\n",
    "                \n",
    "#                 predictions = torch.sigmoid(preds) > 0.5\n",
    "#                 correct += (predictions == labels).sum().item()\n",
    "                \n",
    "#                 pbar.update()\n",
    "                \n",
    "#         acc = correct/len(test_loader.dataset)*100\n",
    "#         pbar.set_postfix({'acc': acc})\n",
    "                \n",
    "#     result.append({'dataset': _, 'acc': acc})"
   ]
  },
  {
   "cell_type": "code",
   "execution_count": null,
   "metadata": {},
   "outputs": [
    {
     "name": "stdout",
     "output_type": "stream",
     "text": [
      "Avg acc: 51.128571428571426\n"
     ]
    },
    {
     "data": {
      "text/html": [
       "<div>\n",
       "<style scoped>\n",
       "    .dataframe tbody tr th:only-of-type {\n",
       "        vertical-align: middle;\n",
       "    }\n",
       "\n",
       "    .dataframe tbody tr th {\n",
       "        vertical-align: top;\n",
       "    }\n",
       "\n",
       "    .dataframe thead th {\n",
       "        text-align: right;\n",
       "    }\n",
       "</style>\n",
       "<table border=\"1\" class=\"dataframe\">\n",
       "  <thead>\n",
       "    <tr style=\"text-align: right;\">\n",
       "      <th></th>\n",
       "      <th>dataset</th>\n",
       "      <th>acc</th>\n",
       "    </tr>\n",
       "  </thead>\n",
       "  <tbody>\n",
       "    <tr>\n",
       "      <th>0</th>\n",
       "      <td>adm</td>\n",
       "      <td>51.2</td>\n",
       "    </tr>\n",
       "    <tr>\n",
       "      <th>1</th>\n",
       "      <td>biggan</td>\n",
       "      <td>50.5</td>\n",
       "    </tr>\n",
       "    <tr>\n",
       "      <th>2</th>\n",
       "      <td>glide</td>\n",
       "      <td>50.0</td>\n",
       "    </tr>\n",
       "    <tr>\n",
       "      <th>3</th>\n",
       "      <td>midjourney</td>\n",
       "      <td>49.7</td>\n",
       "    </tr>\n",
       "    <tr>\n",
       "      <th>4</th>\n",
       "      <td>sdv5</td>\n",
       "      <td>52.6</td>\n",
       "    </tr>\n",
       "    <tr>\n",
       "      <th>5</th>\n",
       "      <td>vqdm</td>\n",
       "      <td>51.2</td>\n",
       "    </tr>\n",
       "    <tr>\n",
       "      <th>6</th>\n",
       "      <td>wukong</td>\n",
       "      <td>52.7</td>\n",
       "    </tr>\n",
       "  </tbody>\n",
       "</table>\n",
       "</div>"
      ],
      "text/plain": [
       "      dataset   acc\n",
       "0         adm  51.2\n",
       "1      biggan  50.5\n",
       "2       glide  50.0\n",
       "3  midjourney  49.7\n",
       "4        sdv5  52.6\n",
       "5        vqdm  51.2\n",
       "6      wukong  52.7"
      ]
     },
     "execution_count": 12,
     "metadata": {},
     "output_type": "execute_result"
    }
   ],
   "source": [
    "# result = pd.DataFrame(result)\n",
    "# result.to_csv(f'./results/{dataset}/ssp_test.csv', index=False)\n",
    "\n",
    "# print(f'Avg acc: {result['acc'].mean()}')\n",
    "# result"
   ]
  },
  {
   "cell_type": "markdown",
   "metadata": {},
   "source": [
    "# Random"
   ]
  },
  {
   "cell_type": "code",
   "execution_count": 8,
   "metadata": {},
   "outputs": [],
   "source": [
    "from PIL import Image\n",
    "\n",
    "def classifier_itest(image_path, device='cuda'):\n",
    "    classes = [\n",
    "        \"AI\",\n",
    "        \"Nature\"\n",
    "    ]\n",
    "\n",
    "    input_image = Image.open(image_path)\n",
    "    input_tensor = preprocess(input_image)\n",
    "    input_batch = input_tensor.unsqueeze(0).to(device)\n",
    "    input_batch = clip_model.encode_image(input_batch)\n",
    "\n",
    "    with torch.inference_mode():\n",
    "        output = classifier(input_batch)\n",
    "    probs = torch.nn.functional.softmax(output[0], dim=0)\n",
    "    for idx, prob in enumerate(probs):\n",
    "        print(f'{classes[idx]}: {prob*100:.2f}%')\n",
    "\n",
    "    print(f'\\nPrediction: {classes[torch.argmax(probs)]}')\n",
    "    \n",
    "def teacher_itest(image_path, device='cuda'):\n",
    "    classes = [\n",
    "        \"AI\",\n",
    "        \"Nature\"\n",
    "    ]\n",
    "\n",
    "    input_image = Image.open(image_path)\n",
    "    input_tensor = preprocess(input_image)\n",
    "    input_batch = input_tensor.unsqueeze(0).to(device)\n",
    "    input_batch = clip_model.encode_image(input_batch)\n",
    "\n",
    "    with torch.inference_mode():\n",
    "        output = teacher_model(input_batch)['layer2']\n",
    "    probs = torch.nn.functional.softmax(output[0], dim=0)\n",
    "    for idx, prob in enumerate(probs):\n",
    "        print(f'{classes[idx]}: {prob*100:.2f}%')\n",
    "\n",
    "    print(f'\\nPrediction: {classes[torch.argmax(probs)]}')"
   ]
  },
  {
   "cell_type": "code",
   "execution_count": 25,
   "metadata": {},
   "outputs": [],
   "source": [
    "img_path = \"./data/sdv5/val/nature/ILSVRC2012_val_00002370.JPEG\""
   ]
  },
  {
   "cell_type": "code",
   "execution_count": 26,
   "metadata": {},
   "outputs": [
    {
     "name": "stdout",
     "output_type": "stream",
     "text": [
      "AI: 0.45%\n",
      "Nature: 99.55%\n",
      "\n",
      "Prediction: Nature\n"
     ]
    }
   ],
   "source": [
    "teacher_itest(img_path, device=device)"
   ]
  },
  {
   "cell_type": "code",
   "execution_count": 27,
   "metadata": {},
   "outputs": [
    {
     "name": "stdout",
     "output_type": "stream",
     "text": [
      "AI: 50.45%\n",
      "Nature: 49.55%\n",
      "\n",
      "Prediction: AI\n"
     ]
    }
   ],
   "source": [
    "classifier_itest(img_path, device=device)"
   ]
  }
 ],
 "metadata": {
  "kernelspec": {
   "display_name": ".venv",
   "language": "python",
   "name": "python3"
  },
  "language_info": {
   "codemirror_mode": {
    "name": "ipython",
    "version": 3
   },
   "file_extension": ".py",
   "mimetype": "text/x-python",
   "name": "python",
   "nbconvert_exporter": "python",
   "pygments_lexer": "ipython3",
   "version": "3.12.2"
  }
 },
 "nbformat": 4,
 "nbformat_minor": 2
}
